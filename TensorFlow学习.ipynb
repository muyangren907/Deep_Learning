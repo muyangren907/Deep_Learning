{
  "nbformat": 4,
  "nbformat_minor": 0,
  "metadata": {
    "colab": {
      "name": "TensorFlow学习.ipynb",
      "provenance": [],
      "collapsed_sections": [],
      "include_colab_link": true
    },
    "kernelspec": {
      "name": "python3",
      "display_name": "Python 3"
    },
    "accelerator": "GPU"
  },
  "cells": [
    {
      "cell_type": "markdown",
      "metadata": {
        "id": "view-in-github",
        "colab_type": "text"
      },
      "source": [
        "<a href=\"https://colab.research.google.com/github/muyangren907/Machine_Learning/blob/master/TensorFlow%E5%AD%A6%E4%B9%A0.ipynb\" target=\"_parent\"><img src=\"https://colab.research.google.com/assets/colab-badge.svg\" alt=\"Open In Colab\"/></a>"
      ]
    },
    {
      "cell_type": "markdown",
      "metadata": {
        "id": "qLNqDimrQvf8",
        "colab_type": "text"
      },
      "source": [
        "# 第一个TensorFlow程序（Hello World）"
      ]
    },
    {
      "cell_type": "code",
      "metadata": {
        "id": "HWgPwrtFQ0ZY",
        "colab_type": "code",
        "colab": {
          "base_uri": "https://localhost:8080/",
          "height": 35
        },
        "outputId": "a7df86bc-a4a8-4e3a-c3c0-a9237366b068"
      },
      "source": [
        "import tensorflow as tf\n",
        "message = tf.constant(\"Hello World\")\n",
        "with tf.Session() as sess:\n",
        "  print(sess.run(message).decode())"
      ],
      "execution_count": 3,
      "outputs": [
        {
          "output_type": "stream",
          "text": [
            "Hello World\n"
          ],
          "name": "stdout"
        }
      ]
    },
    {
      "cell_type": "markdown",
      "metadata": {
        "id": "ObEynjaNRvRz",
        "colab_type": "text"
      },
      "source": [
        "# TensorFlow程序结构"
      ]
    },
    {
      "cell_type": "code",
      "metadata": {
        "id": "vWN595MmR80M",
        "colab_type": "code",
        "colab": {
          "base_uri": "https://localhost:8080/",
          "height": 35
        },
        "outputId": "978c44c7-8d8d-40e7-eb73-804482846bb1"
      },
      "source": [
        "v_1 = tf.constant([1,2,3,4])\n",
        "v_2 = tf.constant([2,1,5,3])\n",
        "v_add = tf.add(v_1,v_2) # You can also write v_1 + v_2\n",
        "\n",
        "with tf.Session() as sess:\n",
        "  print(sess.run(v_add))\n",
        "\n",
        "# You can also write\n",
        "# sess = tf.Session()\n",
        "# print(sess.run(v_add))\n",
        "# sess.close()"
      ],
      "execution_count": 6,
      "outputs": [
        {
          "output_type": "stream",
          "text": [
            "[3 3 8 7]\n"
          ],
          "name": "stdout"
        }
      ]
    },
    {
      "cell_type": "markdown",
      "metadata": {
        "id": "TdTUcMs7T6lG",
        "colab_type": "text"
      },
      "source": [
        "如果你正在使用 Jupyter Notebook 或者 Python shell 进行编程，使用 tf.InteractiveSession 将比 tf.Session 更方便。InteractiveSession 使自己成为默认会话，因此你可以使用 eval() 直接调用运行张量对象而不用显式调用会话。下面给出一个例子："
      ]
    },
    {
      "cell_type": "code",
      "metadata": {
        "id": "OUF8Ge-lT8I5",
        "colab_type": "code",
        "colab": {
          "base_uri": "https://localhost:8080/",
          "height": 91
        },
        "outputId": "5387e1cf-ea0d-4d9b-9b70-533f7272053d"
      },
      "source": [
        "sess = tf.InteractiveSession()\n",
        "v_1 = tf.constant([1,2,3,4])\n",
        "v_2 = tf.constant([2,1,5,3])\n",
        "v_add = tf.add(v_1,v_2)\n",
        "print(v_add.eval())\n",
        "sess.close()"
      ],
      "execution_count": 8,
      "outputs": [
        {
          "output_type": "stream",
          "text": [
            "[3 3 8 7]\n"
          ],
          "name": "stdout"
        },
        {
          "output_type": "stream",
          "text": [
            "/usr/local/lib/python3.6/dist-packages/tensorflow_core/python/client/session.py:1750: UserWarning: An interactive session is already active. This can cause out-of-memory errors in some cases. You must explicitly call `InteractiveSession.close()` to release resources held by the other session(s).\n",
            "  warnings.warn('An interactive session is already active. This can '\n"
          ],
          "name": "stderr"
        }
      ]
    },
    {
      "cell_type": "markdown",
      "metadata": {
        "id": "HtEWNJjFUctU",
        "colab_type": "text"
      },
      "source": [
        "# TensorFlow常量、变量和占位符"
      ]
    },
    {
      "cell_type": "markdown",
      "metadata": {
        "id": "h9xHZftJZnMF",
        "colab_type": "text"
      },
      "source": [
        "## TensorFlow 常量"
      ]
    },
    {
      "cell_type": "code",
      "metadata": {
        "id": "DBiXgWp1UeF7",
        "colab_type": "code",
        "colab": {
          "base_uri": "https://localhost:8080/",
          "height": 701
        },
        "outputId": "e8c1d31b-c9dd-4ebc-b02b-9f5ce90ae795"
      },
      "source": [
        "# 声明一个标量常量：\n",
        "t_1 = tf.constant(4)\n",
        "with tf.Session() as sess:\n",
        "  print(sess.run(t_1))\n",
        "\n",
        "# 一个形如 [1，3] 的常量向量可以用如下代码声明：\n",
        "t_2 = tf.constant([4,3,2])\n",
        "with tf.Session() as sess:\n",
        "  print('\\n',sess.run(t_2))\n",
        "\n",
        "# 要创建一个所有元素为零的张量，可以使用 tf.zeros() 函数。这个语句可以创建\n",
        "# 一个形如 [M，N] 的零元素矩阵，数据类型（dtype）可以是 int32、float32 等：\n",
        "# tf.zeros([M,N],tf.dtype)\n",
        "zero_t = tf.zeros([4,3],tf.int32)\n",
        "with tf.Session() as sess:\n",
        "  print('\\n',sess.run(zero_t))\n",
        "\n",
        "# 还可以创建与现有 Numpy 数组或张量常量具有相同形状的张量常量，如下所示：\n",
        "ones_t = tf.ones_like(zero_t)\n",
        "with tf.Session() as sess:\n",
        "  print('\\n',sess.run(ones_t))\n",
        "\n",
        "# 在一定范围内生成一个从初值到终值等差排布的序列：\n",
        "# tf.linspace(start,stop,num)\n",
        "# start stop :  fliat\n",
        "range_t = tf.linspace(1.0,10.0,10)\n",
        "with tf.Session() as sess:\n",
        "  print('\\n',sess.run(range_t))\n",
        "\n",
        "# 从开始（默认值=0）生成一个数字序列，增量为 delta（默认值=1），\n",
        "# 直到终值（但不包括终值）：\n",
        "# tf.range(start,limit,delta)\n",
        "range_t = tf.range(1.0,90.0,10)\n",
        "with tf.Session() as sess:\n",
        "  print('\\n',sess.run(range_t))\n",
        "\n",
        "# 使用以下语句创建一个具有一定均值（默认值=0.0）和标准差（默认值=1.0）、\n",
        "# 形状为 [M，N] 的正态分布随机数组：\n",
        "t_random = tf.random_normal([2,3],2.0,stddev=4,seed=12)\n",
        "with tf.Session() as sess:\n",
        "  print('\\n',sess.run(t_random))\n",
        "\n",
        "# 创建一个具有一定均值（默认值=0.0）和标准差（默认值=1.0）、形状为 [M，N] 的\n",
        "# 截尾正态分布随机数组：\n",
        "t_random = tf.truncated_normal([1,5],stddev=2,seed=12)\n",
        "with tf.Session() as sess:\n",
        "  print('\\n',sess.run(t_random))\n",
        "\n",
        "# 要在种子的 [minval（default=0），maxval] 范围内创建形状为 [M，N] 的给定\n",
        "# 伽马分布随机数组，请执行如下语句\n",
        "t_random2 = tf.random_uniform([5,6],maxval=4,seed=12)\n",
        "with tf.Session() as sess:\n",
        "  print('\\n',sess.run(t_random2))\n",
        "\n",
        "# 要将给定的张量随机裁剪为指定的大小，使用以下语句：\n",
        "# t_random 是一个已经定义好的张量。这将导致随机从张量 t_random 中裁剪出一个\n",
        "# 大小为 [2，5] 的张量。\n",
        "tf_random_crop = tf.random_crop(t_random2,[4,3],seed=12)\n",
        "with tf.Session() as sess:\n",
        "  print('\\n',sess.run(tf_random_crop))\n",
        "\n",
        "# 很多时候需要以随机的顺序来呈现训练样本，可以使用 tf.random_shuffle() 来沿着\n",
        "# 它的第一维随机排列张量。如果 t_random 是想要重新排序的张量，使用下面的代码：\n",
        "\n",
        "t_random_shuffle = tf.random_shuffle(tf_random_crop)\n",
        "with tf.Session() as sess:\n",
        "  print('\\n',sess.run(t_random_shuffle))\n",
        "\n",
        "# 随机生成的张量受初始种子值的影响。要在多次运行或会话中获得相同的随机数，应该\n",
        "# 将种子设置为一个常数值。当使用大量的随机张量时，可以使用 tf.set_random_seed() \n",
        "# 来为所有随机产生的张量设置种子。以下命令将所有会话的随机张量的种子设置为 54：\n",
        "tf.set_random_seed(54)"
      ],
      "execution_count": 36,
      "outputs": [
        {
          "output_type": "stream",
          "text": [
            "4\n",
            "\n",
            " [4 3 2]\n",
            "\n",
            " [[0 0 0]\n",
            " [0 0 0]\n",
            " [0 0 0]\n",
            " [0 0 0]]\n",
            "\n",
            " [[1 1 1]\n",
            " [1 1 1]\n",
            " [1 1 1]\n",
            " [1 1 1]]\n",
            "\n",
            " [ 1.  2.  3.  4.  5.  6.  7.  8.  9. 10.]\n",
            "\n",
            " [ 1. 11. 21. 31. 41. 51. 61. 71. 81.]\n",
            "\n",
            " [[-5.3299294  6.88009    6.4126735]\n",
            " [ 8.594671  -6.604518  10.532751 ]]\n",
            "\n",
            " [[-3.6649647  2.440045   2.2063367  3.2973356  0.3111803]]\n",
            "\n",
            " [[0.35454178 3.3739414  0.5591998  0.37541723 0.04065514 3.497334  ]\n",
            " [1.4685888  2.7888331  1.9283228  0.3767681  2.2410283  2.9267573 ]\n",
            " [1.4547715  2.1593485  1.6037321  3.50946    2.061996   1.9372883 ]\n",
            " [0.7182331  1.9995828  3.5743747  3.2437034  0.2526312  0.8461442 ]\n",
            " [0.4002676  3.8541117  0.3089533  0.34722805 1.4419994  2.4083471 ]]\n",
            "\n",
            " [[3.3739414  0.5591998  0.37541723]\n",
            " [2.7888331  1.9283228  0.3767681 ]\n",
            " [2.1593485  1.6037321  3.50946   ]\n",
            " [1.9995828  3.5743747  3.2437034 ]]\n",
            "\n",
            " [[2.7888331  1.9283228  0.3767681 ]\n",
            " [1.9995828  3.5743747  3.2437034 ]\n",
            " [2.1593485  1.6037321  3.50946   ]\n",
            " [3.3739414  0.5591998  0.37541723]]\n"
          ],
          "name": "stdout"
        }
      ]
    },
    {
      "cell_type": "markdown",
      "metadata": {
        "id": "LaJlCLEpdhnn",
        "colab_type": "text"
      },
      "source": [
        "## TensorFlow 变量"
      ]
    },
    {
      "cell_type": "code",
      "metadata": {
        "id": "qUBrJhQgdj4E",
        "colab_type": "code",
        "colab": {}
      },
      "source": [
        "# 它们通过使用变量类来创建。变量的定义还包括应该初始化的常量/随机值。\n",
        "# 下面的代码中创建了两个不同的张量变量 t_a 和 t_b。\n",
        "# 两者将被初始化为形状为 [20，30] 的随机均匀分布，最小值=0，最大值=10：\n",
        "rand_t = tf.random_uniform([20,30],0,10,seed=0)\n",
        "t_a = tf.Variable(rand_t)\n",
        "t_b = tf.Variable(rand_t)\n",
        "# 注意：变量通常在神经网络中表示权重和偏置。\n",
        "\n",
        "# 下面的代码中定义了两个变量的权重和偏置。\n",
        "# 权重变量使用正态分布随机初始化，均值为 0，标准差为 2，\n",
        "# 权重大小为 100×100。偏置由 100 个元素组成，每个元素初始化为 0。\n",
        "# 在这里也使用了可选参数名以给计算图中定义的变量命名：\n",
        "weights = tf.Variable(tf.random_normal([100,100],stddev=2))\n",
        "bias = tf.Variable(tf.zeros(100),name='biases')\n",
        "\n",
        "# 在前面的例子中，都是利用一些常量来初始化变量，也可以指定一个变量来初始化另一个变量。\n",
        "# 下面的语句将利用前面定义的权重来初始化 weight2：\n",
        "weights2 = tf.Variable(weights.initialized_value(),name='w2')\n",
        "\n",
        "# 变量的定义将指定变量如何被初始化，但是必须显式初始化所有的声明变量。\n",
        "# 在计算图的定义中通过声明初始化操作对象来实现：\n",
        "initial_op = tf.global_variables_initializer()\n",
        "\n",
        "# 每个变量也可以在运行图中单独使用 tf.Variable.initializer 来初始化：\n",
        "bias = tf.Variable(tf.zeros([100,100]))\n",
        "with tf.Session() as sess:\n",
        "  sess.run(bias.initializer)\n",
        "\n",
        "# 保存变量：使用 Saver 类来保存变量，定义一个 Saver 操作对象：\n",
        "saver = tf.train.Saver() "
      ],
      "execution_count": 0,
      "outputs": []
    },
    {
      "cell_type": "markdown",
      "metadata": {
        "id": "8NPEbplLhWhA",
        "colab_type": "text"
      },
      "source": [
        "## TensorFlow 占位符"
      ]
    },
    {
      "cell_type": "code",
      "metadata": {
        "id": "D1FKGh8ahcI8",
        "colab_type": "code",
        "colab": {
          "base_uri": "https://localhost:8080/",
          "height": 161
        },
        "outputId": "259308f9-79db-4c8f-ab7d-1f36e0e7c41c"
      },
      "source": [
        "# 介绍完常量和变量之后，我们来讲解最重要的元素——占位符，\n",
        "# 它们用于将数据提供给计算图。可以使用以下方法定义一个占位符：\n",
        "# tf.placeholder(dtype,shape=None,name=None)\n",
        "# dtype 定占位符的数据类型，并且必须在声明占位符时指定。\n",
        "# 在这里，为 x 定义一个占位符并计算 y=2*x，使用 feed_dict 输入一个随机的 4×5 矩阵：\n",
        "x = tf.placeholder(tf.float32)\n",
        "y = 2 * x\n",
        "data = tf.random_uniform([4,5],10)\n",
        "with tf.Session() as sess:\n",
        "  x_data = sess.run(data)\n",
        "  y_ = sess.run(y,feed_dict={x:x_data})\n",
        "print(x_data)\n",
        "print(y_)"
      ],
      "execution_count": 46,
      "outputs": [
        {
          "output_type": "stream",
          "text": [
            "[[3.1778164 8.709591  7.535771  5.544607  4.6875687]\n",
            " [6.2226806 5.981759  7.0217867 4.8371143 5.2493024]\n",
            " [3.974957  3.2180357 5.5360594 7.096443  1.7906361]\n",
            " [6.8016834 4.996413  8.032926  5.7051115 3.8984604]]\n",
            "[[ 6.355633  17.419182  15.071542  11.089214   9.375137 ]\n",
            " [12.445361  11.963518  14.043573   9.674229  10.498605 ]\n",
            " [ 7.949914   6.4360714 11.072119  14.192886   3.5812721]\n",
            " [13.603367   9.992826  16.065851  11.410223   7.796921 ]]\n"
          ],
          "name": "stdout"
        }
      ]
    }
  ]
}