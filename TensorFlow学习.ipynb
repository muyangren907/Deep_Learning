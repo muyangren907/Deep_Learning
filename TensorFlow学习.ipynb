{
  "nbformat": 4,
  "nbformat_minor": 0,
  "metadata": {
    "colab": {
      "name": "TensorFlow学习.ipynb",
      "provenance": [],
      "collapsed_sections": [],
      "include_colab_link": true
    },
    "kernelspec": {
      "name": "python3",
      "display_name": "Python 3"
    },
    "accelerator": "GPU"
  },
  "cells": [
    {
      "cell_type": "markdown",
      "metadata": {
        "id": "view-in-github",
        "colab_type": "text"
      },
      "source": [
        "<a href=\"https://colab.research.google.com/github/muyangren907/Machine_Learning/blob/master/TensorFlow%E5%AD%A6%E4%B9%A0.ipynb\" target=\"_parent\"><img src=\"https://colab.research.google.com/assets/colab-badge.svg\" alt=\"Open In Colab\"/></a>"
      ]
    },
    {
      "cell_type": "markdown",
      "metadata": {
        "id": "qLNqDimrQvf8",
        "colab_type": "text"
      },
      "source": [
        "# 第一个TensorFlow程序（Hello World）"
      ]
    },
    {
      "cell_type": "code",
      "metadata": {
        "id": "HWgPwrtFQ0ZY",
        "colab_type": "code",
        "colab": {
          "base_uri": "https://localhost:8080/",
          "height": 35
        },
        "outputId": "a7df86bc-a4a8-4e3a-c3c0-a9237366b068"
      },
      "source": [
        "import tensorflow as tf\n",
        "message = tf.constant(\"Hello World\")\n",
        "with tf.Session() as sess:\n",
        "  print(sess.run(message).decode())"
      ],
      "execution_count": 3,
      "outputs": [
        {
          "output_type": "stream",
          "text": [
            "Hello World\n"
          ],
          "name": "stdout"
        }
      ]
    },
    {
      "cell_type": "markdown",
      "metadata": {
        "id": "ObEynjaNRvRz",
        "colab_type": "text"
      },
      "source": [
        "# TensorFlow程序结构"
      ]
    },
    {
      "cell_type": "code",
      "metadata": {
        "id": "vWN595MmR80M",
        "colab_type": "code",
        "colab": {
          "base_uri": "https://localhost:8080/",
          "height": 35
        },
        "outputId": "978c44c7-8d8d-40e7-eb73-804482846bb1"
      },
      "source": [
        "v_1 = tf.constant([1,2,3,4])\n",
        "v_2 = tf.constant([2,1,5,3])\n",
        "v_add = tf.add(v_1,v_2) # You can also write v_1 + v_2\n",
        "\n",
        "with tf.Session() as sess:\n",
        "  print(sess.run(v_add))\n",
        "\n",
        "# You can also write\n",
        "# sess = tf.Session()\n",
        "# print(sess.run(v_add))\n",
        "# sess.close()"
      ],
      "execution_count": 6,
      "outputs": [
        {
          "output_type": "stream",
          "text": [
            "[3 3 8 7]\n"
          ],
          "name": "stdout"
        }
      ]
    },
    {
      "cell_type": "markdown",
      "metadata": {
        "id": "TdTUcMs7T6lG",
        "colab_type": "text"
      },
      "source": [
        "如果你正在使用 Jupyter Notebook 或者 Python shell 进行编程，使用 tf.InteractiveSession 将比 tf.Session 更方便。InteractiveSession 使自己成为默认会话，因此你可以使用 eval() 直接调用运行张量对象而不用显式调用会话。下面给出一个例子："
      ]
    },
    {
      "cell_type": "code",
      "metadata": {
        "id": "OUF8Ge-lT8I5",
        "colab_type": "code",
        "colab": {
          "base_uri": "https://localhost:8080/",
          "height": 91
        },
        "outputId": "5387e1cf-ea0d-4d9b-9b70-533f7272053d"
      },
      "source": [
        "sess = tf.InteractiveSession()\n",
        "v_1 = tf.constant([1,2,3,4])\n",
        "v_2 = tf.constant([2,1,5,3])\n",
        "v_add = tf.add(v_1,v_2)\n",
        "print(v_add.eval())\n",
        "sess.close()"
      ],
      "execution_count": 8,
      "outputs": [
        {
          "output_type": "stream",
          "text": [
            "[3 3 8 7]\n"
          ],
          "name": "stdout"
        },
        {
          "output_type": "stream",
          "text": [
            "/usr/local/lib/python3.6/dist-packages/tensorflow_core/python/client/session.py:1750: UserWarning: An interactive session is already active. This can cause out-of-memory errors in some cases. You must explicitly call `InteractiveSession.close()` to release resources held by the other session(s).\n",
            "  warnings.warn('An interactive session is already active. This can '\n"
          ],
          "name": "stderr"
        }
      ]
    },
    {
      "cell_type": "markdown",
      "metadata": {
        "id": "HtEWNJjFUctU",
        "colab_type": "text"
      },
      "source": [
        "# TensorFlow常量、变量和占位符"
      ]
    },
    {
      "cell_type": "code",
      "metadata": {
        "id": "DBiXgWp1UeF7",
        "colab_type": "code",
        "colab": {}
      },
      "source": [
        ""
      ],
      "execution_count": 0,
      "outputs": []
    }
  ]
}